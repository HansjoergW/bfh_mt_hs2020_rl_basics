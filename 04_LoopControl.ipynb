{
 "cells": [
  {
   "cell_type": "code",
   "execution_count": null,
   "metadata": {},
   "outputs": [],
   "source": [
    "# default_exp loop"
   ]
  },
  {
   "cell_type": "code",
   "execution_count": null,
   "metadata": {},
   "outputs": [],
   "source": [
    "#hide\n",
    "from nbdev.showdoc import *"
   ]
  },
  {
   "cell_type": "code",
   "execution_count": null,
   "metadata": {},
   "outputs": [],
   "source": [
    "#hide\n",
    "# stellt sicher, dass beim verändern der core library diese wieder neu geladen wird\n",
    "%load_ext autoreload\n",
    "%autoreload 2"
   ]
  },
  {
   "cell_type": "markdown",
   "metadata": {},
   "source": [
    "# LoopControl"
   ]
  },
  {
   "cell_type": "code",
   "execution_count": null,
   "metadata": {},
   "outputs": [],
   "source": [
    "#export\n",
    "\n",
    "from bfh_mt_hs2020_rl_basics.bridge import BridgeBase\n",
    "\n",
    "from datetime import timedelta, datetime\n",
    "import time\n",
    "\n",
    "from ignite.engine import Engine\n",
    "from ignite.metrics import RunningAverage\n",
    "from ignite.contrib.handlers.tensorboard_logger import TensorboardLogger, OutputHandler\n",
    "\n",
    "from ptan.ignite import EndOfEpisodeHandler, EpisodeEvents, PeriodicEvents, PeriodEvents\n",
    "\n",
    "\n",
    "class TimeHandler:\n",
    "    TIME_PASSED_METRIC = 'time_passed'\n",
    "\n",
    "    def __init__(self):\n",
    "        self._started_ts = time.time()\n",
    "\n",
    "    def attach(self, engine: Engine):\n",
    "        engine.add_event_handler(EpisodeEvents.EPISODE_COMPLETED, self)\n",
    "\n",
    "    def __call__(self, engine: Engine):\n",
    "        engine.state.metrics[self.TIME_PASSED_METRIC] = time.time() - self._started_ts\n",
    "\n",
    "class LoopControl:\n",
    "    def __init__(self, bridge:BridgeBase, run_name:str, bound_avg_reward:float=1000.0, logtb:bool = False):\n",
    "          \n",
    "        self.bridge = bridge\n",
    "        self.run_name = run_name\n",
    "        self.engine = Engine(self.bridge.process_batch)\n",
    "\n",
    "        # this handler has several problems. it does more than one thing and it also \n",
    "        # has to have direct access to the experienceSource of the agent.\n",
    "        # that could be refactored\n",
    "        EndOfEpisodeHandler(self.bridge.agent.exp_source, bound_avg_reward = bound_avg_reward).attach(self.engine)\n",
    "        TimeHandler().attach(self.engine)\n",
    "        \n",
    "        RunningAverage(output_transform=lambda v: v['loss']).attach(self.engine, \"avg_loss\")\n",
    "        PeriodicEvents().attach(self.engine) # creates periodic events\n",
    "        \n",
    "        @self.engine.on(EpisodeEvents.EPISODE_COMPLETED)\n",
    "        def episode_completed(trainer: Engine):\n",
    "            passed = trainer.state.metrics.get('time_passed', 0)\n",
    "            print(\"Episode %d: reward=%.0f, steps=%s, \"\n",
    "                  \"elapsed=%s\" % (\n",
    "                trainer.state.episode, trainer.state.episode_reward,\n",
    "                trainer.state.episode_steps,\n",
    "                timedelta(seconds=int(passed))))\n",
    "\n",
    "        @self.engine.on(EpisodeEvents.BOUND_REWARD_REACHED)\n",
    "        def game_solved(trainer: Engine):\n",
    "            passed = trainer.state.metrics['time_passed']\n",
    "            print(\"Game solved in %s, after %d episodes \"\n",
    "                  \"and %d iterations!\" % (\n",
    "                timedelta(seconds=int(passed)),\n",
    "                trainer.state.episode, trainer.state.iteration))\n",
    "            trainer.should_terminate = True\n",
    "        if logtb:\n",
    "            tb = self._create_tb_logger()\n",
    "            handler = OutputHandler(tag=\"episodes\", metric_names=['reward', 'steps', 'avg_reward'])\n",
    "            tb.attach(self.engine, log_handler=handler, event_name=EpisodeEvents.EPISODE_COMPLETED)\n",
    "\n",
    "            handler = OutputHandler(tag=\"train\", metric_names=['avg_loss'], output_transform=lambda a: a)\n",
    "            tb.attach(self.engine, log_handler=handler, event_name=PeriodEvents.ITERS_100_COMPLETED)\n",
    "        \n",
    "        \n",
    "    def _create_tb_logger(self) -> TensorboardLogger:\n",
    "        now = datetime.now().isoformat(timespec='minutes')\n",
    "        now = now.replace(\":\", \"\")\n",
    "        logdir = f\"runs/{now}-{self.run_name}\"\n",
    "        return TensorboardLogger(log_dir=logdir)        \n",
    "        \n",
    "\n",
    "    def run(self):\n",
    "        self.engine.run(self.bridge.batch_generator())"
   ]
  },
  {
   "cell_type": "code",
   "execution_count": null,
   "metadata": {},
   "outputs": [],
   "source": [
    "from bfh_mt_hs2020_rl_basics.agent import SimpleAgent\n",
    "from bfh_mt_hs2020_rl_basics.bridge import SimpleBridge\n",
    "from bfh_mt_hs2020_rl_basics.env import CarEnv\n",
    "\n",
    "import torch\n",
    "\n",
    "def basic_init_bridge() -> SimpleBridge:\n",
    "    env = CarEnv()\n",
    "    agent = SimpleAgent(env, torch.device(\"cpu\"), gamma=0.9, buffer_size=1000)\n",
    "    bridge = SimpleBridge(agent, gamma=0.9)\n",
    "    \n",
    "    return bridge"
   ]
  },
  {
   "cell_type": "code",
   "execution_count": null,
   "metadata": {},
   "outputs": [],
   "source": [
    "def basic_init():\n",
    "    bridge = basic_init_bridge()\n",
    "    LoopControl(bridge, \"dummy\")"
   ]
  },
  {
   "cell_type": "code",
   "execution_count": null,
   "metadata": {},
   "outputs": [],
   "source": [
    "basic_init()"
   ]
  },
  {
   "cell_type": "code",
   "execution_count": null,
   "metadata": {},
   "outputs": [],
   "source": []
  }
 ],
 "metadata": {
  "kernelspec": {
   "display_name": "Python 3",
   "language": "python",
   "name": "python3"
  }
 },
 "nbformat": 4,
 "nbformat_minor": 4
}
