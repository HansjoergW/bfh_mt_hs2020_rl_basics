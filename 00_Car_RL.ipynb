{
 "cells": [
  {
   "cell_type": "code",
   "execution_count": null,
   "metadata": {},
   "outputs": [],
   "source": [
    "# default_exp car"
   ]
  },
  {
   "cell_type": "code",
   "execution_count": null,
   "metadata": {},
   "outputs": [],
   "source": [
    "#hide\n",
    "from nbdev.showdoc import *"
   ]
  },
  {
   "cell_type": "code",
   "execution_count": null,
   "metadata": {},
   "outputs": [],
   "source": [
    "#hide\n",
    "# stellt sicher, dass beim verändern der core library diese wieder neu geladen wird\n",
    "%load_ext autoreload\n",
    "%autoreload 2"
   ]
  },
  {
   "cell_type": "markdown",
   "metadata": {},
   "source": [
    "# Car RL"
   ]
  },
  {
   "cell_type": "code",
   "execution_count": null,
   "metadata": {},
   "outputs": [],
   "source": [
    "from bfh_mt_hs2020_rl_basics.env import CarEnv\n",
    "from bfh_mt_hs2020_rl_basics.agent import Agent\n",
    "from bfh_mt_hs2020_rl_basics.bridge import Bridge\n",
    "from bfh_mt_hs2020_rl_basics.loop import LoopControl\n",
    "\n",
    "import gym\n",
    "from gym.spaces import Tuple, Discrete, Box\n",
    "import numpy as np\n",
    "import warnings\n",
    "\n",
    "import torch"
   ]
  },
  {
   "cell_type": "code",
   "execution_count": null,
   "metadata": {},
   "outputs": [],
   "source": [
    "def create_control(device, run_name) -> LoopControl:\n",
    "    env = CarEnv()\n",
    "    agent = Agent(env, device = device, gamma=0.9, buffer_size=1000)\n",
    "    bridge = Bridge(agent=agent)\n",
    "    control = LoopControl(bridge=bridge, run_name=run_name)\n",
    "    return control"
   ]
  },
  {
   "cell_type": "code",
   "execution_count": null,
   "metadata": {},
   "outputs": [],
   "source": [
    "def run_example():\n",
    "    # get rid of missing metrics warning\n",
    "    warnings.simplefilter(\"ignore\", category=UserWarning)\n",
    "    \n",
    "    control = create_control(torch.device(\"cuda\"), \"Demo\")\n",
    "    control.run()"
   ]
  },
  {
   "cell_type": "code",
   "execution_count": null,
   "metadata": {},
   "outputs": [
    {
     "name": "stdout",
     "output_type": "stream",
     "text": [
      "Episode 1: reward=-1066, steps=349, elapsed=0:00:00\n",
      "Episode 2: reward=-1124, steps=507, elapsed=0:00:00\n",
      "Episode 3: reward=-1028, steps=278, elapsed=0:00:00\n",
      "Episode 4: reward=-1046, steps=328, elapsed=0:00:00\n",
      "Episode 5: reward=-1013, steps=294, elapsed=0:00:00\n",
      "Episode 6: reward=-1045, steps=333, elapsed=0:00:00\n",
      "Episode 7: reward=-1060, steps=297, elapsed=0:00:00\n",
      "Episode 8: reward=-1037, steps=315, elapsed=0:00:00\n",
      "Episode 9: reward=-1083, steps=380, elapsed=0:00:00\n",
      "Episode 10: reward=-1053, steps=250, elapsed=0:00:00\n",
      "Episode 11: reward=-1040, steps=272, elapsed=0:00:00\n",
      "Episode 12: reward=-1018, steps=304, elapsed=0:00:00\n",
      "Episode 13: reward=-1049, steps=348, elapsed=0:00:00\n",
      "Episode 14: reward=-1017, steps=208, elapsed=0:00:00\n",
      "Episode 15: reward=-1118, steps=433, elapsed=0:00:00\n",
      "Episode 16: reward=-1050, steps=283, elapsed=0:00:00\n",
      "Episode 17: reward=-1034, steps=337, elapsed=0:00:00\n",
      "Episode 18: reward=-1071, steps=389, elapsed=0:00:00\n",
      "Episode 19: reward=-1021, steps=261, elapsed=0:00:00\n",
      "Episode 20: reward=-1013, steps=229, elapsed=0:00:00\n",
      "Episode 21: reward=-1107, steps=560, elapsed=0:00:00\n",
      "Episode 22: reward=-1049, steps=371, elapsed=0:00:00\n",
      "Episode 23: reward=-1064, steps=262, elapsed=0:00:00\n",
      "Episode 24: reward=-1018, steps=260, elapsed=0:00:00\n",
      "Episode 25: reward=-1009, steps=265, elapsed=0:00:00\n",
      "Episode 26: reward=-1036, steps=141, elapsed=0:00:00\n",
      "Episode 27: reward=-1120, steps=433, elapsed=0:00:00\n",
      "Episode 28: reward=-1013, steps=254, elapsed=0:00:00\n",
      "Episode 29: reward=-1023, steps=262, elapsed=0:00:00\n",
      "Episode 30: reward=-1000, steps=96, elapsed=0:00:00\n",
      "Episode 31: reward=-1034, steps=232, elapsed=0:00:00\n",
      "Episode 32: reward=-1085, steps=430, elapsed=0:00:00\n",
      "Episode 33: reward=-1050, steps=272, elapsed=0:00:00\n",
      "Episode 34: reward=-1099, steps=452, elapsed=0:00:00\n",
      "Episode 35: reward=-1091, steps=358, elapsed=0:00:00\n",
      "Episode 36: reward=-1029, steps=207, elapsed=0:00:00\n",
      "Episode 37: reward=-1006, steps=162, elapsed=0:00:00\n",
      "Episode 38: reward=-1007, steps=109, elapsed=0:00:00\n",
      "Episode 39: reward=-1054, steps=276, elapsed=0:00:00\n",
      "Episode 40: reward=-1118, steps=368, elapsed=0:00:00\n",
      "Episode 41: reward=-1076, steps=332, elapsed=0:00:00\n",
      "Episode 42: reward=-1098, steps=402, elapsed=0:00:00\n",
      "Episode 43: reward=-1005, steps=155, elapsed=0:00:00\n",
      "Episode 44: reward=-1092, steps=437, elapsed=0:00:00\n",
      "Episode 45: reward=-1007, steps=144, elapsed=0:00:00\n",
      "Episode 46: reward=-1010, steps=128, elapsed=0:00:00\n",
      "Episode 47: reward=-1010, steps=177, elapsed=0:00:00\n",
      "Episode 48: reward=-1131, steps=473, elapsed=0:00:00\n",
      "Episode 49: reward=-1026, steps=251, elapsed=0:00:00\n",
      "Episode 50: reward=-1035, steps=280, elapsed=0:00:00\n",
      "Episode 51: reward=-1033, steps=206, elapsed=0:00:00\n",
      "Episode 52: reward=-1044, steps=302, elapsed=0:00:00\n",
      "Episode 53: reward=21, steps=334, elapsed=0:00:00\n",
      "Episode 54: reward=-1039, steps=246, elapsed=0:00:00\n",
      "Episode 55: reward=-1057, steps=380, elapsed=0:00:00\n",
      "Episode 56: reward=-1010, steps=266, elapsed=0:00:00\n",
      "Episode 57: reward=-1033, steps=213, elapsed=0:00:00\n",
      "Episode 58: reward=-1033, steps=240, elapsed=0:00:00\n",
      "Episode 59: reward=-1029, steps=200, elapsed=0:00:00\n",
      "Episode 60: reward=-1029, steps=269, elapsed=0:00:00\n",
      "Episode 61: reward=-1048, steps=336, elapsed=0:00:00\n",
      "Episode 62: reward=-1029, steps=219, elapsed=0:00:00\n",
      "Episode 63: reward=-1154, steps=531, elapsed=0:00:00\n",
      "Episode 64: reward=-1026, steps=232, elapsed=0:00:00\n",
      "Episode 65: reward=-1008, steps=166, elapsed=0:00:00\n",
      "Episode 66: reward=-1206, steps=564, elapsed=0:00:00\n",
      "Episode 67: reward=-1057, steps=423, elapsed=0:00:00\n",
      "Episode 68: reward=-1013, steps=161, elapsed=0:00:00\n",
      "Episode 69: reward=-1097, steps=334, elapsed=0:00:00\n",
      "Episode 70: reward=-1001, steps=153, elapsed=0:00:00\n",
      "Episode 71: reward=-1054, steps=389, elapsed=0:00:00\n",
      "Episode 72: reward=-1114, steps=437, elapsed=0:00:00\n",
      "Episode 73: reward=-1022, steps=200, elapsed=0:00:00\n",
      "Episode 74: reward=-1025, steps=230, elapsed=0:00:00\n",
      "Episode 75: reward=-1130, steps=398, elapsed=0:00:00\n",
      "Episode 76: reward=-1261, steps=697, elapsed=0:00:00\n",
      "Episode 77: reward=-1005, steps=131, elapsed=0:00:00\n",
      "Episode 78: reward=-1198, steps=535, elapsed=0:00:00\n",
      "Episode 79: reward=-1065, steps=343, elapsed=0:00:00\n",
      "Episode 80: reward=-1056, steps=328, elapsed=0:00:00\n",
      "Episode 81: reward=-1072, steps=339, elapsed=0:00:00\n",
      "Episode 82: reward=-1007, steps=112, elapsed=0:00:00\n",
      "Episode 83: reward=-1266, steps=647, elapsed=0:00:00\n",
      "Episode 84: reward=-1165, steps=549, elapsed=0:00:00\n",
      "Episode 85: reward=-1076, steps=371, elapsed=0:00:00\n",
      "Episode 86: reward=-1082, steps=338, elapsed=0:00:00\n",
      "Episode 87: reward=-1244, steps=778, elapsed=0:00:00\n",
      "Episode 88: reward=-1014, steps=155, elapsed=0:00:00\n",
      "Episode 89: reward=-1020, steps=194, elapsed=0:00:00\n",
      "Episode 90: reward=-1014, steps=213, elapsed=0:00:00\n",
      "Episode 91: reward=-1021, steps=231, elapsed=0:00:00\n",
      "Episode 92: reward=-1069, steps=399, elapsed=0:00:00\n",
      "Episode 93: reward=-1077, steps=266, elapsed=0:00:00\n",
      "Episode 94: reward=-1202, steps=530, elapsed=0:00:00\n",
      "Episode 95: reward=-1052, steps=345, elapsed=0:00:00\n",
      "Episode 96: reward=-1214, steps=666, elapsed=0:00:00\n",
      "Episode 97: reward=-1016, steps=115, elapsed=0:00:00\n",
      "Episode 98: reward=-1022, steps=187, elapsed=0:00:00\n",
      "Episode 99: reward=-83, steps=561, elapsed=0:00:00\n",
      "Episode 100: reward=-1025, steps=284, elapsed=0:00:00\n",
      "Episode 101: reward=-8, steps=432, elapsed=0:00:00\n",
      "Episode 102: reward=33, steps=305, elapsed=0:00:00\n",
      "Episode 103: reward=-1021, steps=233, elapsed=0:00:00\n"
     ]
    },
    {
     "name": "stderr",
     "output_type": "stream",
     "text": [
      "WARNING:root:NaN or Inf found in input tensor.\n"
     ]
    },
    {
     "name": "stdout",
     "output_type": "stream",
     "text": [
      "Episode 104: reward=-1018, steps=289, elapsed=0:00:00\n"
     ]
    },
    {
     "name": "stderr",
     "output_type": "stream",
     "text": [
      "WARNING:root:NaN or Inf found in input tensor.\n"
     ]
    },
    {
     "name": "stdout",
     "output_type": "stream",
     "text": [
      "Episode 105: reward=-1249, steps=627, elapsed=0:00:00\n"
     ]
    },
    {
     "name": "stderr",
     "output_type": "stream",
     "text": [
      "WARNING:root:NaN or Inf found in input tensor.\n"
     ]
    },
    {
     "name": "stdout",
     "output_type": "stream",
     "text": [
      "Episode 106: reward=-1154, steps=573, elapsed=0:00:00\n"
     ]
    },
    {
     "name": "stderr",
     "output_type": "stream",
     "text": [
      "WARNING:root:NaN or Inf found in input tensor.\n"
     ]
    },
    {
     "name": "stdout",
     "output_type": "stream",
     "text": [
      "Episode 107: reward=-1191, steps=512, elapsed=0:00:00\n"
     ]
    },
    {
     "name": "stderr",
     "output_type": "stream",
     "text": [
      "WARNING:root:NaN or Inf found in input tensor.\n"
     ]
    },
    {
     "name": "stdout",
     "output_type": "stream",
     "text": [
      "Episode 108: reward=-101, steps=518, elapsed=0:00:00\n"
     ]
    },
    {
     "name": "stderr",
     "output_type": "stream",
     "text": [
      "WARNING:root:NaN or Inf found in input tensor.\n"
     ]
    },
    {
     "name": "stdout",
     "output_type": "stream",
     "text": [
      "Episode 109: reward=-1287, steps=699, elapsed=0:00:00\n"
     ]
    },
    {
     "name": "stderr",
     "output_type": "stream",
     "text": [
      "WARNING:root:NaN or Inf found in input tensor.\n"
     ]
    },
    {
     "name": "stdout",
     "output_type": "stream",
     "text": [
      "Episode 110: reward=-1242, steps=648, elapsed=0:00:00\n"
     ]
    },
    {
     "name": "stderr",
     "output_type": "stream",
     "text": [
      "WARNING:root:NaN or Inf found in input tensor.\n"
     ]
    },
    {
     "name": "stdout",
     "output_type": "stream",
     "text": [
      "Episode 111: reward=-1106, steps=412, elapsed=0:00:00\n"
     ]
    },
    {
     "name": "stderr",
     "output_type": "stream",
     "text": [
      "WARNING:root:NaN or Inf found in input tensor.\n"
     ]
    },
    {
     "name": "stdout",
     "output_type": "stream",
     "text": [
      "Episode 112: reward=-1069, steps=322, elapsed=0:00:00\n"
     ]
    },
    {
     "name": "stderr",
     "output_type": "stream",
     "text": [
      "WARNING:root:NaN or Inf found in input tensor.\n"
     ]
    },
    {
     "name": "stdout",
     "output_type": "stream",
     "text": [
      "Episode 113: reward=-1024, steps=225, elapsed=0:00:00\n"
     ]
    },
    {
     "name": "stderr",
     "output_type": "stream",
     "text": [
      "WARNING:root:NaN or Inf found in input tensor.\n"
     ]
    },
    {
     "name": "stdout",
     "output_type": "stream",
     "text": [
      "Episode 114: reward=-1012, steps=127, elapsed=0:00:00\n"
     ]
    },
    {
     "name": "stderr",
     "output_type": "stream",
     "text": [
      "WARNING:root:NaN or Inf found in input tensor.\n"
     ]
    },
    {
     "name": "stdout",
     "output_type": "stream",
     "text": [
      "Episode 115: reward=-1036, steps=231, elapsed=0:00:00\n"
     ]
    },
    {
     "name": "stderr",
     "output_type": "stream",
     "text": [
      "WARNING:root:NaN or Inf found in input tensor.\n"
     ]
    },
    {
     "name": "stdout",
     "output_type": "stream",
     "text": [
      "Episode 116: reward=-1234, steps=547, elapsed=0:00:00\n"
     ]
    },
    {
     "name": "stderr",
     "output_type": "stream",
     "text": [
      "WARNING:root:NaN or Inf found in input tensor.\n"
     ]
    },
    {
     "name": "stdout",
     "output_type": "stream",
     "text": [
      "Episode 117: reward=-1014, steps=200, elapsed=0:00:00\n"
     ]
    },
    {
     "name": "stderr",
     "output_type": "stream",
     "text": [
      "WARNING:root:NaN or Inf found in input tensor.\n"
     ]
    },
    {
     "name": "stdout",
     "output_type": "stream",
     "text": [
      "Episode 118: reward=-1049, steps=357, elapsed=0:00:00\n"
     ]
    },
    {
     "name": "stderr",
     "output_type": "stream",
     "text": [
      "WARNING:root:NaN or Inf found in input tensor.\n"
     ]
    },
    {
     "name": "stdout",
     "output_type": "stream",
     "text": [
      "Episode 119: reward=-1099, steps=423, elapsed=0:00:00\n"
     ]
    },
    {
     "name": "stderr",
     "output_type": "stream",
     "text": [
      "WARNING:root:NaN or Inf found in input tensor.\n"
     ]
    },
    {
     "name": "stdout",
     "output_type": "stream",
     "text": [
      "Episode 120: reward=-1177, steps=573, elapsed=0:00:00\n"
     ]
    },
    {
     "name": "stderr",
     "output_type": "stream",
     "text": [
      "WARNING:root:NaN or Inf found in input tensor.\n"
     ]
    },
    {
     "name": "stdout",
     "output_type": "stream",
     "text": [
      "Episode 121: reward=-1058, steps=317, elapsed=0:00:00\n"
     ]
    },
    {
     "name": "stderr",
     "output_type": "stream",
     "text": [
      "WARNING:root:NaN or Inf found in input tensor.\n"
     ]
    },
    {
     "name": "stdout",
     "output_type": "stream",
     "text": [
      "Episode 122: reward=-1199, steps=598, elapsed=0:00:00\n"
     ]
    },
    {
     "name": "stderr",
     "output_type": "stream",
     "text": [
      "WARNING:root:NaN or Inf found in input tensor.\n"
     ]
    },
    {
     "name": "stdout",
     "output_type": "stream",
     "text": [
      "Episode 123: reward=-1099, steps=440, elapsed=0:00:00\n"
     ]
    },
    {
     "name": "stderr",
     "output_type": "stream",
     "text": [
      "WARNING:root:NaN or Inf found in input tensor.\n"
     ]
    },
    {
     "name": "stdout",
     "output_type": "stream",
     "text": [
      "Episode 124: reward=-1723, steps=1310, elapsed=0:00:00\n"
     ]
    },
    {
     "name": "stderr",
     "output_type": "stream",
     "text": [
      "WARNING:root:NaN or Inf found in input tensor.\n"
     ]
    },
    {
     "name": "stdout",
     "output_type": "stream",
     "text": [
      "Episode 125: reward=-1184, steps=430, elapsed=0:00:00\n"
     ]
    },
    {
     "name": "stderr",
     "output_type": "stream",
     "text": [
      "WARNING:root:NaN or Inf found in input tensor.\n"
     ]
    },
    {
     "name": "stdout",
     "output_type": "stream",
     "text": [
      "Episode 126: reward=79, steps=142, elapsed=0:00:00\n"
     ]
    },
    {
     "name": "stderr",
     "output_type": "stream",
     "text": [
      "WARNING:root:NaN or Inf found in input tensor.\n"
     ]
    },
    {
     "name": "stdout",
     "output_type": "stream",
     "text": [
      "Episode 127: reward=-1037, steps=197, elapsed=0:00:00\n"
     ]
    },
    {
     "name": "stderr",
     "output_type": "stream",
     "text": [
      "WARNING:root:NaN or Inf found in input tensor.\n"
     ]
    },
    {
     "name": "stdout",
     "output_type": "stream",
     "text": [
      "Episode 128: reward=-1009, steps=170, elapsed=0:00:00\n"
     ]
    },
    {
     "name": "stderr",
     "output_type": "stream",
     "text": [
      "WARNING:root:NaN or Inf found in input tensor.\n"
     ]
    },
    {
     "name": "stdout",
     "output_type": "stream",
     "text": [
      "Episode 129: reward=-1060, steps=210, elapsed=0:00:00\n"
     ]
    },
    {
     "name": "stderr",
     "output_type": "stream",
     "text": [
      "WARNING:root:NaN or Inf found in input tensor.\n"
     ]
    },
    {
     "name": "stdout",
     "output_type": "stream",
     "text": [
      "Episode 130: reward=-1029, steps=220, elapsed=0:00:00\n"
     ]
    },
    {
     "name": "stderr",
     "output_type": "stream",
     "text": [
      "WARNING:root:NaN or Inf found in input tensor.\n"
     ]
    },
    {
     "name": "stdout",
     "output_type": "stream",
     "text": [
      "Episode 131: reward=-1061, steps=339, elapsed=0:00:00\n"
     ]
    },
    {
     "name": "stderr",
     "output_type": "stream",
     "text": [
      "WARNING:root:NaN or Inf found in input tensor.\n"
     ]
    },
    {
     "name": "stdout",
     "output_type": "stream",
     "text": [
      "Episode 132: reward=-1075, steps=308, elapsed=0:00:00\n"
     ]
    },
    {
     "name": "stderr",
     "output_type": "stream",
     "text": [
      "WARNING:root:NaN or Inf found in input tensor.\n"
     ]
    },
    {
     "name": "stdout",
     "output_type": "stream",
     "text": [
      "Episode 133: reward=-1011, steps=194, elapsed=0:00:00\n"
     ]
    },
    {
     "name": "stderr",
     "output_type": "stream",
     "text": [
      "WARNING:root:NaN or Inf found in input tensor.\n"
     ]
    },
    {
     "name": "stdout",
     "output_type": "stream",
     "text": [
      "Episode 134: reward=-789, steps=1382, elapsed=0:00:00\n"
     ]
    },
    {
     "name": "stderr",
     "output_type": "stream",
     "text": [
      "WARNING:root:NaN or Inf found in input tensor.\n"
     ]
    },
    {
     "name": "stdout",
     "output_type": "stream",
     "text": [
      "Episode 135: reward=-2040, steps=1618, elapsed=0:00:00\n"
     ]
    },
    {
     "name": "stderr",
     "output_type": "stream",
     "text": [
      "WARNING:root:NaN or Inf found in input tensor.\n"
     ]
    },
    {
     "name": "stdout",
     "output_type": "stream",
     "text": [
      "Episode 136: reward=-1237, steps=587, elapsed=0:00:00\n"
     ]
    },
    {
     "name": "stderr",
     "output_type": "stream",
     "text": [
      "WARNING:root:NaN or Inf found in input tensor.\n"
     ]
    },
    {
     "name": "stdout",
     "output_type": "stream",
     "text": [
      "Episode 137: reward=-1127, steps=351, elapsed=0:00:00\n"
     ]
    },
    {
     "name": "stderr",
     "output_type": "stream",
     "text": [
      "WARNING:root:NaN or Inf found in input tensor.\n"
     ]
    },
    {
     "name": "stdout",
     "output_type": "stream",
     "text": [
      "Episode 138: reward=-1323, steps=641, elapsed=0:00:00\n"
     ]
    },
    {
     "name": "stderr",
     "output_type": "stream",
     "text": [
      "WARNING:root:NaN or Inf found in input tensor.\n"
     ]
    },
    {
     "name": "stdout",
     "output_type": "stream",
     "text": [
      "Episode 139: reward=-1004, steps=168, elapsed=0:00:00\n"
     ]
    },
    {
     "name": "stderr",
     "output_type": "stream",
     "text": [
      "WARNING:root:NaN or Inf found in input tensor.\n"
     ]
    },
    {
     "name": "stdout",
     "output_type": "stream",
     "text": [
      "Episode 140: reward=-1679, steps=1157, elapsed=0:00:00\n"
     ]
    },
    {
     "name": "stderr",
     "output_type": "stream",
     "text": [
      "WARNING:root:NaN or Inf found in input tensor.\n"
     ]
    },
    {
     "name": "stdout",
     "output_type": "stream",
     "text": [
      "Episode 141: reward=-1188, steps=521, elapsed=0:00:00\n"
     ]
    },
    {
     "name": "stderr",
     "output_type": "stream",
     "text": [
      "WARNING:root:NaN or Inf found in input tensor.\n"
     ]
    },
    {
     "name": "stdout",
     "output_type": "stream",
     "text": [
      "Episode 142: reward=-1729, steps=1199, elapsed=0:00:00\n"
     ]
    },
    {
     "name": "stderr",
     "output_type": "stream",
     "text": [
      "WARNING:root:NaN or Inf found in input tensor.\n"
     ]
    },
    {
     "name": "stdout",
     "output_type": "stream",
     "text": [
      "Episode 143: reward=-1198, steps=578, elapsed=0:00:00\n"
     ]
    },
    {
     "name": "stderr",
     "output_type": "stream",
     "text": [
      "WARNING:root:NaN or Inf found in input tensor.\n"
     ]
    },
    {
     "name": "stdout",
     "output_type": "stream",
     "text": [
      "Episode 144: reward=-1545, steps=1027, elapsed=0:00:00\n"
     ]
    },
    {
     "name": "stderr",
     "output_type": "stream",
     "text": [
      "WARNING:root:NaN or Inf found in input tensor.\n"
     ]
    },
    {
     "name": "stdout",
     "output_type": "stream",
     "text": [
      "Episode 145: reward=-1379, steps=755, elapsed=0:00:00\n"
     ]
    },
    {
     "name": "stderr",
     "output_type": "stream",
     "text": [
      "WARNING:root:NaN or Inf found in input tensor.\n"
     ]
    },
    {
     "name": "stdout",
     "output_type": "stream",
     "text": [
      "Episode 146: reward=-1277, steps=652, elapsed=0:00:00\n"
     ]
    },
    {
     "name": "stderr",
     "output_type": "stream",
     "text": [
      "WARNING:root:NaN or Inf found in input tensor.\n"
     ]
    },
    {
     "name": "stdout",
     "output_type": "stream",
     "text": [
      "Episode 147: reward=-1102, steps=390, elapsed=0:00:00\n"
     ]
    },
    {
     "name": "stderr",
     "output_type": "stream",
     "text": [
      "WARNING:root:NaN or Inf found in input tensor.\n"
     ]
    },
    {
     "name": "stdout",
     "output_type": "stream",
     "text": [
      "Episode 148: reward=-1315, steps=757, elapsed=0:00:00\n"
     ]
    },
    {
     "name": "stderr",
     "output_type": "stream",
     "text": [
      "WARNING:root:NaN or Inf found in input tensor.\n"
     ]
    },
    {
     "name": "stdout",
     "output_type": "stream",
     "text": [
      "Episode 149: reward=-1533, steps=968, elapsed=0:00:00\n"
     ]
    },
    {
     "name": "stderr",
     "output_type": "stream",
     "text": [
      "WARNING:root:NaN or Inf found in input tensor.\n"
     ]
    },
    {
     "name": "stdout",
     "output_type": "stream",
     "text": [
      "Episode 150: reward=-1787, steps=1357, elapsed=0:00:00\n"
     ]
    },
    {
     "name": "stderr",
     "output_type": "stream",
     "text": [
      "WARNING:root:NaN or Inf found in input tensor.\n"
     ]
    },
    {
     "name": "stdout",
     "output_type": "stream",
     "text": [
      "Episode 151: reward=-1547, steps=1008, elapsed=0:00:00\n"
     ]
    },
    {
     "name": "stderr",
     "output_type": "stream",
     "text": [
      "WARNING:root:NaN or Inf found in input tensor.\n"
     ]
    },
    {
     "name": "stdout",
     "output_type": "stream",
     "text": [
      "Episode 152: reward=-1031, steps=306, elapsed=0:00:00\n"
     ]
    },
    {
     "name": "stderr",
     "output_type": "stream",
     "text": [
      "WARNING:root:NaN or Inf found in input tensor.\n"
     ]
    },
    {
     "name": "stdout",
     "output_type": "stream",
     "text": [
      "Episode 153: reward=-1545, steps=829, elapsed=0:00:00\n"
     ]
    },
    {
     "name": "stderr",
     "output_type": "stream",
     "text": [
      "WARNING:root:NaN or Inf found in input tensor.\n"
     ]
    },
    {
     "name": "stdout",
     "output_type": "stream",
     "text": [
      "Episode 154: reward=-1000, steps=146, elapsed=0:00:00\n"
     ]
    },
    {
     "name": "stderr",
     "output_type": "stream",
     "text": [
      "WARNING:root:NaN or Inf found in input tensor.\n"
     ]
    },
    {
     "name": "stdout",
     "output_type": "stream",
     "text": [
      "Episode 155: reward=-1082, steps=322, elapsed=0:00:00\n"
     ]
    },
    {
     "name": "stderr",
     "output_type": "stream",
     "text": [
      "WARNING:root:NaN or Inf found in input tensor.\n"
     ]
    },
    {
     "name": "stdout",
     "output_type": "stream",
     "text": [
      "Episode 156: reward=-1136, steps=417, elapsed=0:00:00\n"
     ]
    },
    {
     "name": "stderr",
     "output_type": "stream",
     "text": [
      "WARNING:root:NaN or Inf found in input tensor.\n"
     ]
    },
    {
     "name": "stdout",
     "output_type": "stream",
     "text": [
      "Episode 157: reward=-1106, steps=465, elapsed=0:00:00\n"
     ]
    },
    {
     "name": "stderr",
     "output_type": "stream",
     "text": [
      "WARNING:root:NaN or Inf found in input tensor.\n"
     ]
    },
    {
     "name": "stdout",
     "output_type": "stream",
     "text": [
      "Episode 158: reward=-2162, steps=1760, elapsed=0:00:00\n"
     ]
    },
    {
     "name": "stderr",
     "output_type": "stream",
     "text": [
      "WARNING:root:NaN or Inf found in input tensor.\n"
     ]
    },
    {
     "name": "stdout",
     "output_type": "stream",
     "text": [
      "Episode 159: reward=-1376, steps=892, elapsed=0:00:00\n"
     ]
    },
    {
     "name": "stderr",
     "output_type": "stream",
     "text": [
      "WARNING:root:NaN or Inf found in input tensor.\n"
     ]
    },
    {
     "name": "stdout",
     "output_type": "stream",
     "text": [
      "Episode 160: reward=-1777, steps=1340, elapsed=0:00:00\n"
     ]
    },
    {
     "name": "stderr",
     "output_type": "stream",
     "text": [
      "WARNING:root:NaN or Inf found in input tensor.\n"
     ]
    },
    {
     "name": "stdout",
     "output_type": "stream",
     "text": [
      "Episode 161: reward=-1798, steps=1285, elapsed=0:00:00\n"
     ]
    },
    {
     "name": "stderr",
     "output_type": "stream",
     "text": [
      "WARNING:root:NaN or Inf found in input tensor.\n"
     ]
    },
    {
     "name": "stdout",
     "output_type": "stream",
     "text": [
      "Episode 162: reward=-1526, steps=841, elapsed=0:00:00\n"
     ]
    },
    {
     "name": "stderr",
     "output_type": "stream",
     "text": [
      "WARNING:root:NaN or Inf found in input tensor.\n"
     ]
    },
    {
     "name": "stdout",
     "output_type": "stream",
     "text": [
      "Episode 163: reward=-1027, steps=160, elapsed=0:00:00\n"
     ]
    },
    {
     "name": "stderr",
     "output_type": "stream",
     "text": [
      "WARNING:root:NaN or Inf found in input tensor.\n"
     ]
    },
    {
     "name": "stdout",
     "output_type": "stream",
     "text": [
      "Episode 164: reward=-1174, steps=450, elapsed=0:00:00\n"
     ]
    },
    {
     "name": "stderr",
     "output_type": "stream",
     "text": [
      "WARNING:root:NaN or Inf found in input tensor.\n"
     ]
    },
    {
     "name": "stdout",
     "output_type": "stream",
     "text": [
      "Episode 165: reward=-1083, steps=261, elapsed=0:00:00\n"
     ]
    },
    {
     "name": "stderr",
     "output_type": "stream",
     "text": [
      "WARNING:root:NaN or Inf found in input tensor.\n"
     ]
    },
    {
     "name": "stdout",
     "output_type": "stream",
     "text": [
      "Episode 166: reward=-1000, steps=109, elapsed=0:00:00\n"
     ]
    },
    {
     "name": "stderr",
     "output_type": "stream",
     "text": [
      "WARNING:root:NaN or Inf found in input tensor.\n"
     ]
    },
    {
     "name": "stdout",
     "output_type": "stream",
     "text": [
      "Episode 167: reward=-1055, steps=278, elapsed=0:00:00\n"
     ]
    },
    {
     "name": "stderr",
     "output_type": "stream",
     "text": [
      "WARNING:root:NaN or Inf found in input tensor.\n"
     ]
    },
    {
     "name": "stdout",
     "output_type": "stream",
     "text": [
      "Episode 168: reward=-1012, steps=220, elapsed=0:00:00\n"
     ]
    },
    {
     "name": "stderr",
     "output_type": "stream",
     "text": [
      "WARNING:root:NaN or Inf found in input tensor.\n"
     ]
    },
    {
     "name": "stdout",
     "output_type": "stream",
     "text": [
      "Episode 169: reward=-1047, steps=273, elapsed=0:00:00\n"
     ]
    },
    {
     "name": "stderr",
     "output_type": "stream",
     "text": [
      "WARNING:root:NaN or Inf found in input tensor.\n"
     ]
    },
    {
     "name": "stdout",
     "output_type": "stream",
     "text": [
      "Episode 170: reward=-1056, steps=345, elapsed=0:00:00\n"
     ]
    },
    {
     "name": "stderr",
     "output_type": "stream",
     "text": [
      "WARNING:root:NaN or Inf found in input tensor.\n"
     ]
    },
    {
     "name": "stdout",
     "output_type": "stream",
     "text": [
      "Episode 171: reward=-2257, steps=1826, elapsed=0:00:00\n"
     ]
    },
    {
     "name": "stderr",
     "output_type": "stream",
     "text": [
      "WARNING:root:NaN or Inf found in input tensor.\n"
     ]
    },
    {
     "name": "stdout",
     "output_type": "stream",
     "text": [
      "Episode 172: reward=-1143, steps=1834, elapsed=0:00:00\n"
     ]
    },
    {
     "name": "stderr",
     "output_type": "stream",
     "text": [
      "WARNING:root:NaN or Inf found in input tensor.\n"
     ]
    },
    {
     "name": "stdout",
     "output_type": "stream",
     "text": [
      "Episode 173: reward=-2230, steps=1911, elapsed=0:00:00\n"
     ]
    }
   ],
   "source": [
    "run_example()"
   ]
  },
  {
   "cell_type": "code",
   "execution_count": null,
   "metadata": {},
   "outputs": [],
   "source": [
    "env = CarEnv()\n",
    "agent = Agent(env, device = torch.device(\"cuda\"), gamma=0.9, buffer_size=1000)"
   ]
  },
  {
   "cell_type": "code",
   "execution_count": null,
   "metadata": {},
   "outputs": [],
   "source": []
  }
 ],
 "metadata": {
  "kernelspec": {
   "display_name": "Python 3",
   "language": "python",
   "name": "python3"
  }
 },
 "nbformat": 4,
 "nbformat_minor": 4
}
