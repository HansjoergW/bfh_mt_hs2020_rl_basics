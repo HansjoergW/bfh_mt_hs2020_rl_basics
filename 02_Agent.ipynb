{
 "cells": [
  {
   "cell_type": "code",
   "execution_count": null,
   "metadata": {},
   "outputs": [],
   "source": [
    "# default_exp agent"
   ]
  },
  {
   "cell_type": "code",
   "execution_count": null,
   "metadata": {},
   "outputs": [],
   "source": [
    "#hide\n",
    "from nbdev.showdoc import *"
   ]
  },
  {
   "cell_type": "code",
   "execution_count": null,
   "metadata": {},
   "outputs": [],
   "source": [
    "#hide\n",
    "# stellt sicher, dass beim verändern der core library diese wieder neu geladen wird\n",
    "%load_ext autoreload\n",
    "%autoreload 2"
   ]
  },
  {
   "cell_type": "markdown",
   "metadata": {},
   "source": [
    "# Agent"
   ]
  },
  {
   "cell_type": "code",
   "execution_count": null,
   "metadata": {},
   "outputs": [],
   "source": [
    "from bfh_mt_hs2020_rl_basics.env import CarEnv\n",
    "\n",
    "import gym\n",
    "import ptan\n",
    "import torch\n",
    "import torch.nn as nn"
   ]
  },
  {
   "cell_type": "code",
   "execution_count": null,
   "metadata": {},
   "outputs": [],
   "source": [
    "#export\n",
    "import torch.nn as nn\n",
    "\n",
    "class Net(nn.Module):\n",
    "    def __init__(self, obs_size, hidden_size, n_actions):\n",
    "        super(Net, self).__init__()\n",
    "        self.net = nn.Sequential(\n",
    "            nn.Linear(obs_size, hidden_size),\n",
    "            nn.ReLU(),\n",
    "            nn.Linear(hidden_size, n_actions)\n",
    "        )\n",
    "\n",
    "    def forward(self, x):\n",
    "        return self.net(x.float())"
   ]
  },
  {
   "cell_type": "code",
   "execution_count": null,
   "metadata": {},
   "outputs": [],
   "source": [
    "#export\n",
    "from bfh_mt_hs2020_rl_basics.env import CarEnv\n",
    "\n",
    "import gym\n",
    "import ptan\n",
    "\n",
    "class Agent:\n",
    "    \n",
    "    def __init__(self, env: CarEnv, gamma:float, buffer_size:int, eps_start:float = 1.0, eps_final:float = 0.02, eps_frames:int = 10**5, target_net_sync:int = 1000):\n",
    "        \n",
    "        self.env = env\n",
    "        self.target_net_sync = target_net_sync\n",
    "        \n",
    "        self.net = self._config_net()\n",
    "        \n",
    "        self.tgt_net = ptan.agent.TargetNet(self.net)\n",
    "        \n",
    "        self.selector = ptan.actions.EpsilonGreedyActionSelector(\n",
    "                                    epsilon=1, \n",
    "                                    selector=ptan.actions.ArgmaxActionSelector())\n",
    "        \n",
    "        self.epsilon_tracker = ptan.actions.EpsilonTracker(selector=self.selector, eps_start=eps_start, eps_final=eps_final, eps_frames=eps_frames)\n",
    "\n",
    "        self.agent = agent = ptan.agent.DQNAgent(self.net, self.selector)\n",
    "        \n",
    "        self.exp_source = ptan.experience.ExperienceSourceFirstLast(self.env, self.agent, gamma=gamma)\n",
    "        self.buffer = ptan.experience.ExperienceReplayBuffer(self.exp_source, buffer_size=buffer_size)\n",
    "        \n",
    "\n",
    "    def _config_net(self)-> nn.Module:\n",
    "        return Net(self.env.observation_space.shape[0], 128, self.env.action_space.n)\n",
    "    \n",
    "    \n",
    "    def iteration_completed(self, iteration: int):\n",
    "        \n",
    "        self.epsilon_tracker.frame(iteration)\n",
    "        \n",
    "        if iteration % self.target_net_sync == 0:\n",
    "            self.tgt_net.sync()\n",
    "\n",
    "        "
   ]
  },
  {
   "cell_type": "code",
   "execution_count": null,
   "metadata": {},
   "outputs": [],
   "source": [
    "GAMMA = 0.9\n",
    "REPLAY_SIZE = 1000"
   ]
  },
  {
   "cell_type": "code",
   "execution_count": null,
   "metadata": {},
   "outputs": [],
   "source": [
    "def test_agent():\n",
    "    env = CarEnv()\n",
    "    agent = Agent(env, gamma=GAMMA, buffer_size=REPLAY_SIZE)"
   ]
  },
  {
   "cell_type": "code",
   "execution_count": null,
   "metadata": {},
   "outputs": [],
   "source": [
    "test_agent()"
   ]
  },
  {
   "cell_type": "code",
   "execution_count": null,
   "metadata": {},
   "outputs": [],
   "source": []
  }
 ],
 "metadata": {
  "kernelspec": {
   "display_name": "Python 3",
   "language": "python",
   "name": "python3"
  }
 },
 "nbformat": 4,
 "nbformat_minor": 4
}
